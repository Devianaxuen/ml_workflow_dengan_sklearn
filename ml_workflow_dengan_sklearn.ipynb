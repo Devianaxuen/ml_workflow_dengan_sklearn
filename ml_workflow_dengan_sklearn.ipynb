{
 "cells": [
  {
   "cell_type": "markdown",
   "metadata": {},
   "source": [
    "## 03 Machine Learning Workflow dengan Scikit Learn\n",
    "\n",
    "### Persiapan Dataset\n",
    "\n",
    "#### Load Sample Dataset: Iris Dataset"
   ]
  },
  {
   "cell_type": "code",
   "execution_count": 1,
   "metadata": {},
   "outputs": [],
   "source": [
    "from sklearn.datasets import load_iris\n",
    "\n",
    "iris = load_iris()\n",
    "\n",
    "X = iris.data\n",
    "y = iris.target"
   ]
  },
  {
   "cell_type": "markdown",
   "metadata": {},
   "source": [
    "untuk proses import : \n",
    "- from sklearn.datasets import load_iris\n",
    "berikut kita akan load_iris()(kita akan tangpung dedalam variabel iris)\n",
    "- Kita akan extrat sekumpulan nilai features dan sekumpulan nilai target dari dataset\n",
    "untuk nilai features kita tampung ke dalam variable X dan nilai target kita tampung ke dalam variable y"
   ]
  },
  {
   "cell_type": "markdown",
   "metadata": {},
   "source": [
    "#### Splitting Dataset: Training & Testing Set"
   ]
  },
  {
   "cell_type": "code",
   "execution_count": 2,
   "metadata": {},
   "outputs": [],
   "source": [
    "from sklearn.model_selection import train_test_split\n",
    "\n",
    "X_train, X_test, y_train, y_test = train_test_split(X,\n",
    "                                                    y,\n",
    "                                                    test_size=0.4,\n",
    "                                                    random_state=1)"
   ]
  },
  {
   "cell_type": "markdown",
   "metadata": {},
   "source": [
    "#### Dari data set ini kita akan membagi menjadi 2 bagian:\n",
    "__Training Set & Testing Set__\n",
    "Proses dalam train_test_split (X, y, test_size=0.4, random_state=1) dengan memanggil function dan akan melewatkan 4 parameter\n",
    "- Sekumpulan nilai featuresnya (X)\n",
    "- Sekumpulan nilai targetnya (y)\n",
    "- Ukuran dari testing setnya (test_size=0.4- untuk kasus kali ini adalah 0.4 berarti testing set akan memiliki proporsi 40% dari total keseluruhan dari dataset kita, sedangkan untuk training setnya akan menempati proporsi 60%)\n",
    "- untuk perancakan(random_state=1)."
   ]
  },
  {
   "cell_type": "markdown",
   "metadata": {},
   "source": [
    "train_test_split akan menghasilkan 4 kumpulan nilai yang harus kita tampung ke4 variable: \n",
    "- X_train, \n",
    "- X_test, \n",
    "- y_train, \n",
    "- y_test. "
   ]
  },
  {
   "cell_type": "markdown",
   "metadata": {},
   "source": [
    "### Training Model\n",
    "+ Pada Scikit Learn, model machine learning dibentuk dari class yang dikenal dengan istilah estimator.\n",
    "+ Setiap estimator akan mengimplementasikan dua method utama, yaitu fit() dan predict().\n",
    "+ Method fit() digunakan untuk melakukan training model\n",
    "+ Method predict() digunakan untuk melakukan estimasi/prediksi dengan memanfaatkan trained model."
   ]
  },
  {
   "cell_type": "code",
   "execution_count": 3,
   "metadata": {},
   "outputs": [
    {
     "data": {
      "text/plain": [
       "KNeighborsClassifier(n_neighbors=3)"
      ]
     },
     "execution_count": 3,
     "metadata": {},
     "output_type": "execute_result"
    }
   ],
   "source": [
    "from sklearn.neighbors import KNeighborsClassifier\n",
    "\n",
    "model = KNeighborsClassifier(n_neighbors=3)\n",
    "model.fit(X_train, y_train)"
   ]
  },
  {
   "cell_type": "markdown",
   "metadata": {},
   "source": [
    "Kita akan menggunakan KNeighborsClassifier sebagai machine learning model, model ini akan kita training dengan memanfaatkan training set yang sudah kita persiapkan sebelumnya.\n",
    "__Cara Mendemokan KNeighborsClassifier__\n",
    "- from sklearn.neighbors import KNeighborsClassifier\n",
    "- Objek dari class KNeighborsClassifier(n_neighbors=3)- proses pembentukan objek model ini pembentukan 1 parameter yaitu : n_neighbors, parameter ini dibutuhkan karena objek model yang mau dibentuk berasal dari __KNeighborsClassifier__ dimana kita harus menspesifikasi jumlah neighbors-nya untuk kasus kali ini kita set jumlah neighbors-nya adalah 3, objek model yang terbentuk akan ditampung kedalam variable model \n",
    "- Objek model akan kita training dengan menggunakan metode fit, proses training akan memanfaatkan training set makanya uang dipanggil adalah X_train, y_train. Dimana X_train berisi sekumpulan features untuk training set & y_train akan berisi sekumpulan nilai target untuk training set "
   ]
  },
  {
   "cell_type": "markdown",
   "metadata": {},
   "source": [
    "### Evaluasi Model"
   ]
  },
  {
   "cell_type": "code",
   "execution_count": 5,
   "metadata": {},
   "outputs": [
    {
     "name": "stdout",
     "output_type": "stream",
     "text": [
      "Accuracy: 0.9833333333333333\n"
     ]
    }
   ],
   "source": [
    "from sklearn.metrics import accuracy_score\n",
    "\n",
    "y_pred = model.predict(X_test)\n",
    "acc = accuracy_score(y_test, y_pred)\n",
    "print(f'Accuracy: {acc}')"
   ]
  },
  {
   "cell_type": "markdown",
   "metadata": {},
   "source": [
    "__Cara Mendemokan accuracy_score__\n",
    "\n",
    "- from sklearn.metrics import accuracy_score\n",
    "- Prediksi terhadap nilai features yang ada didalam testing dataset, akan kita panggil model.predict(X_test) dan hasil prediksinya akan kita tampung kedalam variable y_pred\n",
    "- accuracy_score(y_test, y_pred) nilai akurasinnya kita tampung kedama variale acc"
   ]
  },
  {
   "cell_type": "markdown",
   "metadata": {},
   "source": [
    "### Pemanfaatan Trained Model"
   ]
  },
  {
   "cell_type": "code",
   "execution_count": 6,
   "metadata": {},
   "outputs": [
    {
     "data": {
      "text/plain": [
       "array([1, 2])"
      ]
     },
     "execution_count": 6,
     "metadata": {},
     "output_type": "execute_result"
    }
   ],
   "source": [
    "data_baru = [[5, 5, 3, 2], \n",
    "             [2, 4, 3, 5]]\n",
    "\n",
    "preds =  model.predict(data_baru)\n",
    "preds"
   ]
  },
  {
   "cell_type": "markdown",
   "metadata": {},
   "source": [
    "__Cara mendemokan__\n",
    "- data_baru - Terdiri dari 2 role/ 2 baris dimana setiap insert atau barisnya terbagi dalam 4 nilai features\n",
    "- model.predict(data_baru) untuk melakukan prediksi/ memanggil model yang sudah kita lakukan berikutnya hasil prediksi akan kita tampung kedalam variable preds"
   ]
  },
  {
   "cell_type": "code",
   "execution_count": 7,
   "metadata": {},
   "outputs": [
    {
     "name": "stdout",
     "output_type": "stream",
     "text": [
      "Hasil Prediksi: ['versicolor', 'virginica']\n"
     ]
    }
   ],
   "source": [
    "pred_species = [iris.target_names[p] for p in preds] \n",
    "print(f'Hasil Prediksi: {pred_species}')"
   ]
  },
  {
   "cell_type": "markdown",
   "metadata": {},
   "source": [
    "Untuk memanggil target names hasil prediksi diatas \n",
    "__Cara Demo__\n",
    "- data pertama dengan nilai 5,5,3,2 ini diprediksi masuk kedalam klasifikasi species iris versicolor sedangkan untuk nilai kedua 2,4,3,5 ini diprediksi masuk kedalam kategori species iris virginica"
   ]
  },
  {
   "cell_type": "markdown",
   "metadata": {},
   "source": [
    "### Dump & Load Trained Model\n",
    "\n",
    "#### Dumping Model Machine Learning Menjadi file joblib"
   ]
  },
  {
   "cell_type": "code",
   "execution_count": 8,
   "metadata": {},
   "outputs": [
    {
     "data": {
      "text/plain": [
       "['iris_classifier_knn.joblib']"
      ]
     },
     "execution_count": 8,
     "metadata": {},
     "output_type": "execute_result"
    }
   ],
   "source": [
    "import joblib\n",
    "\n",
    "joblib.dump(model, 'iris_classifier_knn.joblib')"
   ]
  },
  {
   "cell_type": "markdown",
   "metadata": {},
   "source": [
    "__Cara Mendemokan__\n",
    "- import joblib\n",
    "- joblib.dump(model, 'iris_classifier_knn.joblib')- __Penjelasan terhadap 2 parameter__ parameter pertama adalah _model_ yang mau didump dan parameter kedua adalah _'iris_classifier_knn.joblib'_ "
   ]
  },
  {
   "cell_type": "markdown",
   "metadata": {},
   "source": [
    "#### Loading Model Machine Learning dari file joblib"
   ]
  },
  {
   "cell_type": "code",
   "execution_count": 10,
   "metadata": {},
   "outputs": [],
   "source": [
    "production_model = joblib.load('iris_classifier_knn.joblib')"
   ]
  },
  {
   "cell_type": "markdown",
   "metadata": {},
   "source": [
    "Dengan memanggil joblib.load('iris_classifier_knn.joblib') akan dibentuk suatu machine learning yang sudah kita training sebelumnya dan akan ditampung kedalam variable production_model\n",
    "\n",
    "Kita dapat memanfaatkan production_model untuk melakukan prediksi terhadap data- data baru yang kita temui di production "
   ]
  }
 ],
 "metadata": {
  "kernelspec": {
   "display_name": "Python 3",
   "language": "python",
   "name": "python3"
  },
  "language_info": {
   "codemirror_mode": {
    "name": "ipython",
    "version": 3
   },
   "file_extension": ".py",
   "mimetype": "text/x-python",
   "name": "python",
   "nbconvert_exporter": "python",
   "pygments_lexer": "ipython3",
   "version": "3.8.5"
  }
 },
 "nbformat": 4,
 "nbformat_minor": 4
}
